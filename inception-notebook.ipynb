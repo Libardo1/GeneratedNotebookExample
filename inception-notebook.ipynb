{
 "cells": [
  {
   "cell_type": "markdown",
   "metadata": {},
   "source": [
    "# Inception Notebook"
   ]
  },
  {
   "cell_type": "markdown",
   "metadata": {},
   "source": [
    "*Yo Dawg, I heard you like notebooks...*"
   ]
  },
  {
   "cell_type": "code",
   "execution_count": 1,
   "metadata": {
    "collapsed": true
   },
   "outputs": [],
   "source": [
    "from jupyter_client.kernelspec import KernelSpecManager\n",
    "import os\n",
    "import nbformat\n",
    "from nbformat.v4.nbbase import new_markdown_cell, new_code_cell, new_notebook\n",
    "from nbconvert.preprocessors import ExecutePreprocessor"
   ]
  },
  {
   "cell_type": "code",
   "execution_count": 2,
   "metadata": {
    "collapsed": true
   },
   "outputs": [],
   "source": [
    "def get_kernelspec(name):\n",
    "    \"\"\"Get a kernel specification dictionary given a kernel name\n",
    "    \n",
    "    This is optional, but required for execution of a new notebook.\n",
    "    \"\"\"\n",
    "    ksm = KernelSpecManager()\n",
    "    kernelspec = ksm.get_kernel_spec(name).to_dict()\n",
    "    kernelspec['name'] = name\n",
    "    kernelspec.pop('argv')\n",
    "    return kernelspec"
   ]
  },
  {
   "cell_type": "code",
   "execution_count": 3,
   "metadata": {
    "collapsed": false
   },
   "outputs": [],
   "source": [
    "nbformat.write(new_notebook(cells=[new_markdown_cell(source='# Inception Notebook'),\n",
    "                                   new_markdown_cell(source='*Yo Dawg, I heard you like notebooks...*'),\n",
    "                                   new_code_cell(source=In[1]),\n",
    "                                   new_code_cell(source=In[2]),\n",
    "                                   new_code_cell(source=In[3])],\n",
    "                            metadata={'language': 'python',\n",
    "                                      'kernelspec': get_kernelspec('python3')}),\n",
    "               'inception-notebook.ipynb')"
   ]
  }
 ],
 "metadata": {
  "kernelspec": {
   "display_name": "Python 3",
   "language": "",
   "name": "python3"
  },
  "language_info": {
   "codemirror_mode": {
    "name": "ipython",
    "version": 3
   },
   "file_extension": ".py",
   "mimetype": "text/x-python",
   "name": "python",
   "nbconvert_exporter": "python",
   "pygments_lexer": "ipython3",
   "version": "3.5.1"
  }
 },
 "nbformat": 4,
 "nbformat_minor": 0
}

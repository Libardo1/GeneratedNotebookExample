{
 "cells": [
  {
   "cell_type": "markdown",
   "metadata": {},
   "source": [
    "# Inception Notebook"
   ]
  },
  {
   "cell_type": "markdown",
   "metadata": {},
   "source": [
    "*Yo Dawg, I heard you like notebooks...*"
   ]
  },
  {
   "cell_type": "code",
   "execution_count": null,
   "metadata": {},
   "outputs": [],
   "source": [
    "from ipykernel import kernelspec as ks\n",
    "import nbformat\n",
    "from nbformat.v4.nbbase import new_markdown_cell, new_code_cell, new_notebook"
   ]
  },
  {
   "cell_type": "code",
   "execution_count": null,
   "metadata": {},
   "outputs": [],
   "source": [
    "kernelspec = ks.get_kernel_dict()\n",
    "kernelspec['name'] = ks.KERNEL_NAME\n",
    "kernelspec.pop('argv');"
   ]
  },
  {
   "cell_type": "code",
   "execution_count": null,
   "metadata": {},
   "outputs": [],
   "source": [
    "cells = [new_markdown_cell(source='# Inception Notebook'),\n",
    "         new_markdown_cell(source='*Yo Dawg, I heard you like notebooks...*')]\n",
    "cells.extend(new_code_cell(source=cell) for cell in In[1:])\n",
    "nbformat.write(new_notebook(cells=cells,\n",
    "                            metadata={'language': 'python',\n",
    "                                      'kernelspec': kernelspec}),\n",
    "               'inception-notebook.ipynb')"
   ]
  }
 ],
 "metadata": {
  "kernelspec": {
   "display_name": "Python 3",
   "language": "python",
   "name": "python3"
  },
  "language": "python"
 },
 "nbformat": 4,
 "nbformat_minor": 0
}
